{
 "cells": [
  {
   "cell_type": "code",
   "execution_count": null,
   "metadata": {},
   "outputs": [],
   "source": [
    "#  1. Modo de Elección Múltiple\n",
    "# Descripción: Muestra el nombre de un país y presenta tres opciones de capitales, una de las cuales es la correcta.\n",
    "# Cómo hacerlo:\n",
    "'''Usa un diccionario con países europeos como claves y capitales como valores.\n",
    "Genera tres opciones al azar, asegurándote de incluir la correcta.\n",
    "Si el jugador elige bien, suma puntos; si no, muestra la respuesta correcta.\n",
    "Extra: Añade un temporizador para cada pregunta, haciendo el juego más dinámico.´´´"
   ]
  },
  {
   "cell_type": "markdown",
   "metadata": {},
   "source": [
    "** BIENVENIDX AL JUEGO DE LAS CAPITALES **\n",
    "\n",
    "- Cada jugador cuando empieza el juego tiene 3 vidas\n",
    "- Hay 4 ranking del juego (0, 1, 2 y 3) según tus vidas, (darle un nombre ludico a cada nivel alcanzado por el jugador: Indiana Jones o Cristobal Colón, Jules Verne, etc.)\n",
    "- Cada fallo resta una vida, al terminar tus vidas, sales del juego y el programa te dice el ranking alcanzado.\n",
    "- A cada respuesta el programa te devuelve \"Correcto, te quedan 3 vidas\" o \"Error, la capital correcta es XXX, te quedan 2 vidas\"\n",
    "- Cada tres aciertos sube la dificultad\n",
    "- Son 9 preguntas en total\n",
    "- Tienes 3 opciones y hay que elegir la correcta.\n",
    "- Si falla una respuesta, pasas a la pregunta siguiente\n",
    "- Si pierdes todas tus vidas, salta un mensaje que dice \"Has perdido todas tus vidas, ¿quieres volver a empezar?\"\n",
    "\n"
   ]
  },
  {
   "cell_type": "code",
   "execution_count": 8,
   "metadata": {},
   "outputs": [],
   "source": [
    "# Juego preguntas de geografía:\n",
    "# El usuario pone su nombre\n",
    "# Crear diccionario con los paises europeos como claves y las capitales como valor.\n",
    "\n",
    "capitales_con_paises = {\n",
    "    \"faciles\" : {\"Rusia\": \"Moscú\", \"Alemania\": \"Berlín\", \"Reino Unido\": \"Londres\", \n",
    "                \"Francia\": \"París\", \"Italia\": \"Roma\", \"España\": \"Madrid\", \n",
    "                \"Ucrania\": \"Kiev\", \"Polonia\": \"Varsovia\", \"Países Bajos\": \"Ámsterdam\", \n",
    "                \"Portugal\": \"Lisboa\", \"Suecia\": \"Estocolmo\", \"Grecia\": \"Atenas\" },\n",
    "    \n",
    "    \"medias\" : { \"Rumanía\": \"Bucarest\", \"Bélgica\": \"Bruselas\", \"República Checa\": \"Praga\", \n",
    "               \"Hungría\": \"Budapest\", \"Austria\": \"Viena\", \"Suiza\": \"Berna\", \"Bulgaria\": \"Sofía\", \n",
    "               \"Serbia\": \"Belgrado\", \"Dinamarca\": \"Copenhague\", \"Finlandia\": \"Helsinki\", \n",
    "               \"Eslovaquia\": \"Bratislava\", \"Noruega\": \"Oslo\", \"Irlanda\": \"Dublín\", \n",
    "               \"Croacia\": \"Zagreb\", \"Bosnia y Herzegovina\": \"Sarajevo\" },\n",
    "               \n",
    "    \"dificiles\" : { \"Moldavia\": \"Chisináu\", \"Albania\": \"Tirana\", \"Lituania\": \"Vilna\", \n",
    "                  \"Macedonia\": \"Skopje\", \"Eslovenia\": \"Liubliana\", \"Letonia\": \"Riga\", \n",
    "                  \"Estonia\": \"Tallin\", \"Montenegro\": \"Podgorica\", \"Luxemburgo\": \"Luxemburgo\", \n",
    "                  \"Malta\": \"La Valeta\", \"Islandia\": \"Reikiavik\", \"Andorra\": \"Andorra la Vella\", \n",
    "                  \"Liechtenstein\": \"Vaduz\", \"Mónaco\": \"Mónaco\", \"San Marino\": \"San Marino\", \n",
    "                  \"Ciudad del Vaticano\": \"Ciudad del Vaticano\" }\n",
    "}\n",
    "\n",
    "\n",
    "\n"
   ]
  },
  {
   "cell_type": "code",
   "execution_count": 9,
   "metadata": {},
   "outputs": [],
   "source": [
    "vidas = 3\n",
    "preguntas_totales = 9\n",
    "preguntas_por_nivel = 3\n",
    "nivel = 1\n",
    "puntuacion = 0"
   ]
  },
  {
   "cell_type": "code",
   "execution_count": 15,
   "metadata": {},
   "outputs": [],
   "source": [
    "def pregunta(pais, capital):\n",
    "\n",
    "\n",
    "\n",
    "    respuesta = input(f\"¿Cual es la capital de {pais}?\").strip()\n",
    "    for pais, capital in capitales_con_paises.items():\n",
    "        if respuesta = capitales_con_paises.lower()[]\n",
    "            print(\"¡Correcto!\")\n",
    "            return True\n",
    "    else:\n",
    "        print(f\"Incorrecto, la capital de {pais} es {capital}.\")\n",
    "        return False"
   ]
  },
  {
   "cell_type": "code",
   "execution_count": 2,
   "metadata": {},
   "outputs": [
    {
     "ename": "NameError",
     "evalue": "name 'pregunta' is not defined",
     "output_type": "error",
     "traceback": [
      "\u001b[0;31m---------------------------------------------------------------------------\u001b[0m",
      "\u001b[0;31mNameError\u001b[0m                                 Traceback (most recent call last)",
      "Cell \u001b[0;32mIn[2], line 1\u001b[0m\n\u001b[0;32m----> 1\u001b[0m pregunta()\n",
      "\u001b[0;31mNameError\u001b[0m: name 'pregunta' is not defined"
     ]
    }
   ],
   "source": [
    "pregunta()"
   ]
  },
  {
   "cell_type": "markdown",
   "metadata": {},
   "source": [
    "** OPCIÓN ALTERNATIVA DICCIONARIO: **\n",
    "\n",
    "paises_capitales = {\n",
    "    \"Alemania\": {\"país\": \"Alemania\", \"ciudad\": \"Berlín\"},\n",
    "    \"Francia\": {\"país\": \"Francia\", \"ciudad\": \"París\"},\n",
    "    \"Italia\": {\"país\": \"Italia\", \"ciudad\": \"Roma\"},\n",
    "    \"España\": {\"país\": \"España\", \"ciudad\": \"Madrid\"},\n",
    "    \"Portugal\": {\"país\": \"Portugal\", \"ciudad\": \"Lisboa\"},\n",
    "    \"Reino Unido\": {\"país\": \"Reino Unido\", \"ciudad\": \"Londres\"},\n",
    "    \"Grecia\": {\"país\": \"Grecia\", \"ciudad\": \"Atenas\"},\n",
    "    \"Países Bajos\": {\"país\": \"Países Bajos\", \"ciudad\": \"Ámsterdam\"},\n",
    "    \"Bélgica\": {\"país\": \"Bélgica\", \"ciudad\": \"Bruselas\"},\n",
    "    \"Suiza\": {\"país\": \"Suiza\", \"ciudad\": \"Berna\"},\n",
    "    \"Austria\": {\"país\": \"Austria\", \"ciudad\": \"Viena\"},\n",
    "    \"Suecia\": {\"país\": \"Suecia\", \"ciudad\": \"Estocolmo\"},\n",
    "    \"Noruega\": {\"país\": \"Noruega\", \"ciudad\": \"Oslo\"},\n",
    "    \"Dinamarca\": {\"país\": \"Dinamarca\", \"ciudad\": \"Copenhague\"},\n",
    "    \"Finlandia\": {\"país\": \"Finlandia\", \"ciudad\": \"Helsinki\"},\n",
    "    \"Polonia\": {\"país\": \"Polonia\", \"ciudad\": \"Varsovia\"},\n",
    "    \"República Checa\": {\"país\": \"República Checa\", \"ciudad\": \"Praga\"},\n",
    "    \"Hungría\": {\"país\": \"Hungría\", \"ciudad\": \"Budapest\"},\n",
    "    \"Rumanía\": {\"país\": \"Rumanía\", \"ciudad\": \"Bucarest\"},\n",
    "    \"Bulgaria\": {\"país\": \"Bulgaria\", \"ciudad\": \"Sofía\"},\n",
    "    \"Eslovaquia\": {\"país\": \"Eslovaquia\", \"ciudad\": \"Bratislava\"},\n",
    "    \"Eslovenia\": {\"país\": \"Eslovenia\", \"ciudad\": \"Liubliana\"},\n",
    "    \"Croacia\": {\"país\": \"Croacia\", \"ciudad\": \"Zagreb\"},\n",
    "    \"Estonia\": {\"país\": \"Estonia\", \"ciudad\": \"Tallin\"},\n",
    "    \"Letonia\": {\"país\": \"Letonia\", \"ciudad\": \"Riga\"},\n",
    "    \"Lituania\": {\"país\": \"Lituania\", \"ciudad\": \"Vilna\"},\n",
    "    \"Irlanda\": {\"país\": \"Irlanda\", \"ciudad\": \"Dublín\"},\n",
    "    \"Islandia\": {\"país\": \"Islandia\", \"ciudad\": \"Reikiavik\"},\n",
    "    \"Malta\": {\"país\": \"Malta\", \"ciudad\": \"La Valeta\"},\n",
    "    \"Luxemburgo\": {\"país\": \"Luxemburgo\", \"ciudad\": \"Luxemburgo\"},\n",
    "    \"Ucrania\": {\"país\": \"Ucrania\", \"ciudad\": \"Kiev\"},\n",
    "    \"Serbia\": {\"país\": \"Serbia\", \"ciudad\": \"Belgrado\"},\n",
    "    \"Bosnia y Herzegovina\": {\"país\": \"Bosnia y Herzegovina\", \"ciudad\": \"Sarajevo\"},\n",
    "    \"Moldavia\": {\"país\": \"Moldavia\", \"ciudad\": \"Chisináu\"},\n",
    "    \"Mónaco\": {\"país\": \"Mónaco\", \"ciudad\": \"Mónaco\"},\n",
    "    \"Andorra\": {\"país\": \"Andorra\", \"ciudad\": \"Andorra la Vieja\"},\n",
    "    \"Liechtenstein\": {\"país\": \"Liechtenstein\", \"ciudad\": \"Vaduz\"},\n",
    "    \"San Marino\": {\"país\": \"San Marino\", \"ciudad\": \"San Marino\"},\n",
    "    \"Montenegro\": {\"país\": \"Montenegro\", \"ciudad\": \"Podgorica\"},\n",
    "    \"Macedonia del Norte\": {\"país\": \"Macedonia del Norte\", \"ciudad\": \"Skopie\"}\n",
    "}\n",
    "# Ejemplo para acceder a los valores de España\n",
    "print(paises_capitales[\"España\"][\"país\"])  # Esto imprimirá: España\n",
    "print(paises_capitales[\"España\"][\"ciudad\"])  # Esto imprimirá: Madrid"
   ]
  }
 ],
 "metadata": {
  "kernelspec": {
   "display_name": "base",
   "language": "python",
   "name": "python3"
  },
  "language_info": {
   "codemirror_mode": {
    "name": "ipython",
    "version": 3
   },
   "file_extension": ".py",
   "mimetype": "text/x-python",
   "name": "python",
   "nbconvert_exporter": "python",
   "pygments_lexer": "ipython3",
   "version": "3.12.4"
  }
 },
 "nbformat": 4,
 "nbformat_minor": 2
}
